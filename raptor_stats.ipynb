{
 "cells": [
  {
   "cell_type": "code",
   "execution_count": 29,
   "metadata": {},
   "outputs": [],
   "source": [
    "import numpy as np\n",
    "\n",
    "# import polars as pl\n",
    "import pandas as pd\n",
    "import requests\n",
    "import os\n",
    "from bpdb import set_trace\n",
    "\n",
    "from tqdm.auto import tqdm  # for notebooks\n",
    "\n",
    "tqdm.pandas()"
   ]
  },
  {
   "cell_type": "code",
   "execution_count": 30,
   "metadata": {},
   "outputs": [],
   "source": [
    "file_path = \"replays.parquet\"\n",
    "if not os.path.exists(file_path):\n",
    "    apiUrl = \"https://api.bar-rts.com/replays?limit=10000&preset=team&hasBots=true\"\n",
    "\n",
    "    json = requests.get(apiUrl, headers={\"User-Agent\": \"tetrisface\"}).json()\n",
    "\n",
    "    data = json[\"data\"]\n",
    "\n",
    "    # df = pl.from_records(data)\n",
    "    # df.to_pandas().to_parquet(file_path)\n",
    "    df_raw = pd.DataFrame.from_records(data)\n",
    "    df_raw.to_parquet(file_path)\n",
    "else:\n",
    "    # df = pl.read_parquet(file_path)\n",
    "    df_raw = pd.read_parquet(file_path)\n",
    "df_raw = df_raw.set_index(\"id\")"
   ]
  },
  {
   "cell_type": "code",
   "execution_count": 31,
   "metadata": {},
   "outputs": [
    {
     "name": "stdout",
     "output_type": "stream",
     "text": [
      "root replays between 2024-03-15 and 2024-04-01\n"
     ]
    }
   ],
   "source": [
    "pd.options.mode.copy_on_write = True\n",
    "import time\n",
    "\n",
    "\n",
    "def is_raptors(row):\n",
    "    for team in row:\n",
    "        for ai in team[\"AIs\"]:\n",
    "            if ai[\"shortName\"] == \"RaptorsAI\":\n",
    "                return True\n",
    "    return False\n",
    "\n",
    "\n",
    "def is_draw(row):\n",
    "    results = []\n",
    "    for team in row:\n",
    "        results.append(team[\"winningTeam\"])\n",
    "    return len(team) <= 1 or all(x == results[0] for x in [team[\"winningTeam\"] for team in row])\n",
    "\n",
    "\n",
    "def winners(row):\n",
    "    _winners = []\n",
    "    for team in row:\n",
    "        if team[\"winningTeam\"] is True:\n",
    "            if len(team[\"Players\"]) > 0:\n",
    "                _winners.extend([player[\"name\"] for player in team[\"Players\"]])\n",
    "            elif len(team[\"AIs\"]) > 0:\n",
    "                _winners.extend([ai[\"shortName\"] for ai in team[\"AIs\"]])\n",
    "    return _winners\n",
    "\n",
    "\n",
    "def players(row):\n",
    "    _players = []\n",
    "    for team in row:\n",
    "        _players.extend([player[\"name\"] for player in team[\"Players\"]])\n",
    "    return _players\n",
    "\n",
    "df_root_expanded = df_raw.copy()\n",
    "print(f\"root replays between {df_root_expanded[\"startTime\"].min()[:10]} and {df_root_expanded[\"startTime\"].max()[:10]}\")\n",
    "\n",
    "df_root_expanded[\"raptors\"] = df_root_expanded[\"AllyTeams\"].apply(is_raptors)\n",
    "df_root_expanded[\"draw\"] = df_root_expanded[\"AllyTeams\"].apply(is_draw)\n",
    "df_root_expanded[\"winners\"] = df_root_expanded[\"AllyTeams\"].apply(winners)\n",
    "df_root_expanded[\"players\"] = df_root_expanded[\"AllyTeams\"].apply(players)"
   ]
  },
  {
   "cell_type": "code",
   "execution_count": 64,
   "metadata": {},
   "outputs": [
    {
     "name": "stderr",
     "output_type": "stream",
     "text": [
      "loading from disk:   0%|          | 0/413 [00:00<?, ?it/s]"
     ]
    },
    {
     "name": "stderr",
     "output_type": "stream",
     "text": [
      "loading from disk: 100%|██████████| 413/413 [00:22<00:00, 18.44it/s]\n",
      "  0%|          | 0/1 [00:00<?, ?it/s]"
     ]
    },
    {
     "name": "stdout",
     "output_type": "stream",
     "text": [
      "sleeping\n"
     ]
    },
    {
     "name": "stderr",
     "output_type": "stream",
     "text": [
      "100%|██████████| 1/1 [00:00<00:00,  1.29it/s]"
     ]
    },
    {
     "name": "stdout",
     "output_type": "stream",
     "text": [
      "sleeping done\n"
     ]
    },
    {
     "name": "stderr",
     "output_type": "stream",
     "text": [
      "\n"
     ]
    }
   ],
   "source": [
    "from warnings import simplefilter\n",
    "\n",
    "simplefilter(action=\"ignore\", category=pd.errors.PerformanceWarning)\n",
    "\n",
    "df_raptors = df_root_expanded[\n",
    "    df_root_expanded[\"raptors\"] & ~df_root_expanded[\"draw\"]\n",
    "]  # draws might be good to exclude\n",
    "\n",
    "df_raptors[\"fetch_success\"] = None\n",
    "\n",
    "\n",
    "def api_game_settings(row):\n",
    "    url = f\"https://api.bar-rts.com/replays/{row.name}\"\n",
    "    response = requests.get(url, headers={\"User-Agent\": \"tetrisface\"})\n",
    "    if response.status_code == 200:\n",
    "        game_settings = response.json().get(\"gameSettings\")\n",
    "        for key, value in game_settings.items():\n",
    "            # Add new column to DataFrame if the column doesn't exist\n",
    "            if key not in df_raptors.columns:\n",
    "                df_raptors[key] = None\n",
    "            # Update DataFrame with fetched data\n",
    "            row[key] = value\n",
    "        time.sleep(0.4)\n",
    "        row[\"fetch_success\"] = True\n",
    "    else:\n",
    "        print(f\"Failed to fetch data from {url}\")\n",
    "        time.sleep(1)\n",
    "        row[\"fetch_success\"] = False\n",
    "    return row\n",
    "\n",
    "\n",
    "# load in disk\n",
    "if os.path.exists(\"replays_gamesettings.pickle\"):\n",
    "    df_raptors_disk = pd.read_pickle(\"replays_gamesettings.pickle\")\n",
    "    for replay_id, disk_row in tqdm(\n",
    "        df_raptors_disk.iterrows(),\n",
    "        total=df_raptors_disk.shape[0],\n",
    "        smoothing=False,\n",
    "        desc=\"loading from disk\",\n",
    "    ):\n",
    "        df_raptors.loc[replay_id, disk_row.index] = disk_row\n",
    "\n",
    "# fetch new\n",
    "df_raptors_api = (\n",
    "    df_raptors[df_raptors[\"fetch_success\"].isnull()]\n",
    "    .head(1)\n",
    "    .progress_apply(\n",
    "        api_game_settings,\n",
    "        axis=1,\n",
    "    )\n",
    ")\n",
    "for replay_id, api_row in df_raptors_api.iterrows():\n",
    "    df_raptors.loc[replay_id] = api_row\n",
    "\n",
    "# store\n",
    "df_raptors[df_raptors[\"fetch_success\"].notnull()].to_pickle(\n",
    "    \"replays_gamesettings.pickle\"\n",
    ")\n",
    "\n",
    "if len(df_raptors.loc[df_raptors.fetch_success == False]) > 0:\n",
    "    print(f'failed to fetch {len(df_raptors[~df_raptors[\"fetch_success\"]])} games')"
   ]
  },
  {
   "cell_type": "code",
   "execution_count": null,
   "metadata": {},
   "outputs": [],
   "source": [
    "from nuttyb import hp_multiplier_149, main\n",
    "\n",
    "df_raptors[\"nuttyb_main\"] = df_raptors.apply(\n",
    "    lambda row: all(\n",
    "        [\n",
    "            tweak[\"value\"] == row[tweak[\"location\"]]\n",
    "            for tweak in main\n",
    "            if tweak[\"version\"] == \"1.48\"\n",
    "        ]\n",
    "    )\n",
    "    or all(\n",
    "        [\n",
    "            tweak[\"value\"] == row[tweak[\"location\"]]\n",
    "            for tweak in main\n",
    "            if tweak[\"version\"] == \"1.49\"\n",
    "        ]\n",
    "    ),\n",
    "    axis=1,\n",
    ")\n",
    "\n",
    "\n",
    "def nuttyb_difficulty(row):\n",
    "    for _def in hp_multiplier_149:\n",
    "        if row[_def[\"location\"]] == _def[\"value\"]:\n",
    "            return _def[\"name\"]\n",
    "    return None\n",
    "\n",
    "\n",
    "df_raptors[\"nuttyb_difficulty\"] = df_raptors.apply(nuttyb_difficulty, axis=1)"
   ]
  },
  {
   "cell_type": "code",
   "execution_count": null,
   "metadata": {},
   "outputs": [
    {
     "data": {
      "text/html": [
       "<div>\n",
       "<style scoped>\n",
       "    .dataframe tbody tr th:only-of-type {\n",
       "        vertical-align: middle;\n",
       "    }\n",
       "\n",
       "    .dataframe tbody tr th {\n",
       "        vertical-align: top;\n",
       "    }\n",
       "\n",
       "    .dataframe thead tr th {\n",
       "        text-align: left;\n",
       "    }\n",
       "\n",
       "    .dataframe thead tr:last-of-type th {\n",
       "        text-align: right;\n",
       "    }\n",
       "</style>\n",
       "<table border=\"1\" class=\"dataframe\">\n",
       "  <thead>\n",
       "    <tr>\n",
       "      <th></th>\n",
       "      <th>player_total</th>\n",
       "      <th>player_won</th>\n",
       "      <th>rate</th>\n",
       "    </tr>\n",
       "    <tr>\n",
       "      <th></th>\n",
       "      <th>nunique</th>\n",
       "      <th>nunique</th>\n",
       "      <th></th>\n",
       "    </tr>\n",
       "    <tr>\n",
       "      <th>nuttyb_difficulty</th>\n",
       "      <th></th>\n",
       "      <th></th>\n",
       "      <th></th>\n",
       "    </tr>\n",
       "  </thead>\n",
       "  <tbody>\n",
       "  </tbody>\n",
       "</table>\n",
       "</div>"
      ],
      "text/plain": [
       "Empty DataFrame\n",
       "Columns: [(player_total, nunique), (player_won, nunique), (rate, )]\n",
       "Index: []"
      ]
     },
     "execution_count": 28,
     "metadata": {},
     "output_type": "execute_result"
    }
   ],
   "source": [
    "df_raptor_players = df_raptors.explode(\"players\")\n",
    "df_raptor_players.rename(columns={\"players\": \"player\"}, inplace=True)\n",
    "\n",
    "df_raptor_players[\"won\"] = df_raptor_players.apply(\n",
    "    lambda row: row.player in row.winners, axis=1\n",
    ")\n",
    "df_nuttyb_players = df_raptor_players[df_raptor_players[\"nuttyb_main\"] == True]\n",
    "agg_total = df_nuttyb_players.groupby([\"nuttyb_difficulty\"]).agg(\n",
    "    {\"player\": [\"nunique\"]}\n",
    ")\n",
    "agg_won = (\n",
    "    df_nuttyb_players[df_nuttyb_players[\"won\"]]\n",
    "    .groupby([\"nuttyb_difficulty\"])\n",
    "    .agg({\"player\": [\"nunique\"]})\n",
    ")\n",
    "joined = agg_total.join(agg_won, lsuffix=\"_total\", rsuffix=\"_won\")\n",
    "joined[\"rate\"] = joined.player_won[\"nunique\"] / joined.player_total[\"nunique\"]\n",
    "joined"
   ]
  },
  {
   "cell_type": "code",
   "execution_count": null,
   "metadata": {},
   "outputs": [],
   "source": [
    "# df_raptors = df_raptors.explode(\"players\")\n",
    "# df_raptors.rename(columns={\"players\": \"player\"}, inplace=True)\n",
    "# df_raptors[\"won\"] = df_raptors.apply(lambda row: row.player in row.winners, axis=1)\n",
    "\n",
    "# df_raptors[\"week\"] = pd.to_datetime(df_raptors[\"startTime\"]).dt.month\n",
    "# df = df_raptors.groupby([\"player\", \"week\"]).agg({\"won\": \"mean\", \"id\": \"count\"})\n",
    "# df = df.rename(columns={\"won\": \"winrate\", \"id\": \"replays\"})\n",
    "\n",
    "# df = df[df.replays > 4]\n",
    "\n",
    "# rank_sum_column = \"rank_sum\"\n",
    "# df[rank_sum_column] = (df.winrate.rank() * 0.1 + df.replays.rank() * 0.9) / len(df)\n",
    "# df.sort_values(rank_sum_column, inplace=True, ascending=False)\n",
    "\n",
    "# df[rank_sum_column] = round(df[rank_sum_column], 2).astype(str)\n",
    "\n",
    "# df.winrate = df.winrate * 100"
   ]
  },
  {
   "cell_type": "code",
   "execution_count": null,
   "metadata": {},
   "outputs": [],
   "source": [
    "# pd.set_option(\"display.max_rows\", 500)\n",
    "# pd.options.display.float_format = \"{:.0f}%\".format\n",
    "\n",
    "# for week, df_week in df.groupby(\"week\"):\n",
    "#     # df_week = df_week[df_week[\"replays\"] > 4].reset_index()\n",
    "#     df_week = df_week.reset_index()\n",
    "#     df_week.index = np.arange(1, len(df_week) + 1)\n",
    "#     print(df_week.head(20))\n",
    "#     print()"
   ]
  }
 ],
 "metadata": {
  "kernelspec": {
   "display_name": "Python 3",
   "language": "python",
   "name": "python3"
  },
  "language_info": {
   "codemirror_mode": {
    "name": "ipython",
    "version": 3
   },
   "file_extension": ".py",
   "mimetype": "text/x-python",
   "name": "python",
   "nbconvert_exporter": "python",
   "pygments_lexer": "ipython3",
   "version": "3.12.undefined"
  }
 },
 "nbformat": 4,
 "nbformat_minor": 2
}
